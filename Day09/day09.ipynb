{
 "cells": [
  {
   "cell_type": "code",
   "execution_count": 1,
   "id": "a6482ab1",
   "metadata": {},
   "outputs": [],
   "source": [
    "import copy \n",
    "import numpy as np\n",
    "import math\n",
    "from geojson import LineString, Feature, FeatureCollection, dump"
   ]
  },
  {
   "cell_type": "code",
   "execution_count": 2,
   "id": "ad8b3963",
   "metadata": {},
   "outputs": [],
   "source": [
    "with open(\"input.txt\") as f:\n",
    "    instructions = [x.strip('\\n') for x in f.readlines()]"
   ]
  },
  {
   "cell_type": "code",
   "execution_count": 3,
   "id": "9ba6ae6b",
   "metadata": {},
   "outputs": [],
   "source": [
    "def distance(p1, p2):\n",
    "    \"\"\" \n",
    "    https://en.wikipedia.org/wiki/Chebyshev_distance\n",
    "    \"\"\"\n",
    "    return max(abs(p2[0] - p1[0]), abs(p2[1] - p1[1]))\n"
   ]
  },
  {
   "cell_type": "markdown",
   "id": "b2b2b7da",
   "metadata": {},
   "source": [
    "# Part 1"
   ]
  },
  {
   "cell_type": "code",
   "execution_count": 4,
   "id": "097e0039",
   "metadata": {},
   "outputs": [],
   "source": [
    "head = [[0, 0]] # x, y\n",
    "tail = [[0, 0]]\n",
    "\n",
    "for ins in instructions:\n",
    "    direction, steps = ins.split(' ')\n",
    "    \n",
    "    for _ in range(int(steps)):\n",
    "        c = copy.copy(head[-1])\n",
    "        match direction:\n",
    "            case \"R\":\n",
    "                c[0] += 1\n",
    "            case \"U\":\n",
    "                c[1] += 1\n",
    "            case \"L\":\n",
    "                c[0] -= 1\n",
    "            case \"D\":\n",
    "                c[1] -= 1\n",
    "            case _:\n",
    "                print(\"Code not found\")\n",
    "        head.append(c)\n",
    "        \n",
    "        if distance(head[-1], tail[-1]) >= 2:\n",
    "            tail.append(copy.copy(head[-2]))"
   ]
  },
  {
   "cell_type": "code",
   "execution_count": 5,
   "id": "9c4b0c72",
   "metadata": {},
   "outputs": [
    {
     "data": {
      "text/plain": [
       "5960"
      ]
     },
     "execution_count": 5,
     "metadata": {},
     "output_type": "execute_result"
    }
   ],
   "source": [
    "# for changing by index we need lists above, for unqiue coordindates\n",
    "# convert [x, y] to tuples (x, y), b/c we can't use a set() on lists.\n",
    "len(set([(x[0], x[1]) for x in tail]))"
   ]
  },
  {
   "cell_type": "markdown",
   "id": "2d5bd57f",
   "metadata": {},
   "source": [
    "# Part 2\n",
    "\n",
    "Works also for part 1."
   ]
  },
  {
   "cell_type": "code",
   "execution_count": 6,
   "id": "ec0e462f",
   "metadata": {
    "scrolled": false
   },
   "outputs": [],
   "source": [
    "# prepare N=10 knots\n",
    "knots = {}\n",
    "for i in range(0, 10):\n",
    "    knots[i] = [[0, 0]]\n",
    "\n",
    "for ins in instructions:\n",
    "    direction, steps = ins.split(' ')\n",
    "    \n",
    "    for _ in range(int(steps)):\n",
    "        # move head\n",
    "        c = copy.copy(knots[0][-1])\n",
    "        match direction:\n",
    "            case \"R\":\n",
    "                c[0] += 1\n",
    "            case \"U\":\n",
    "                c[1] += 1\n",
    "            case \"L\":\n",
    "                c[0] -= 1\n",
    "            case \"D\":\n",
    "                c[1] -= 1\n",
    "            case _:\n",
    "                print(\"Code not found\")\n",
    "        knots[0].append(c)\n",
    "        \n",
    "        # move N knots\n",
    "        for i, knot in knots.items():\n",
    "            \n",
    "            # head is moved above\n",
    "            if i == 0:\n",
    "                continue\n",
    "                \n",
    "            if distance(knot[-1], knots[i-1][-1]) >= 2:\n",
    "                dists = {}\n",
    "                t = knots[i-1][-1]\n",
    "                n = copy.copy(knot[-1])\n",
    "\n",
    "                # diagonal move, chose the one with smallest distance\n",
    "                if(knot[-1][0] != knots[i-1][-1][0] and \n",
    "                  knot[-1][1] != knots[i-1][-1][1]):        \n",
    "             \n",
    "                    # up-right\n",
    "                    n_ur = [n[0]+1, n[1]+1]\n",
    "                    ur_d = distance(n_ur, t)\n",
    "                    dists[ur_d] = n_ur\n",
    "\n",
    "                    # down-right\n",
    "                    n_dr = [n[0]+1, n[1]-1]\n",
    "                    dr_d = distance(n_dr, t)   \n",
    "                    dists[dr_d] = n_dr\n",
    "\n",
    "                    # up-left\n",
    "                    n_ul = [n[0]-1, n[1]+1]\n",
    "                    ul_d = distance(n_ul, t)\n",
    "                    dists[ul_d] = n_ul\n",
    "\n",
    "                    # down-left\n",
    "                    n_dl = [n[0]-1, n[1]-1]\n",
    "                    dl_d = distance(n_dl, t)\n",
    "                    dists[dl_d] = n_dl\n",
    "                else:\n",
    "                    # up\n",
    "                    n_u = [n[0], n[1]+1]\n",
    "                    u_d = distance(n_u, t)\n",
    "                    dists[u_d] = n_u\n",
    "\n",
    "                    # down\n",
    "                    n_d = [n[0], n[1]-1]\n",
    "                    d_d = distance(n_d, t)   \n",
    "                    dists[d_d] = n_d\n",
    "\n",
    "                    # left\n",
    "                    n_l = [n[0]-1, n[1]]\n",
    "                    l_d = distance(n_l, t)\n",
    "                    dists[l_d] = n_l\n",
    "\n",
    "                    # right\n",
    "                    n_r = [n[0]+1, n[1]]\n",
    "                    r_d = distance(n_r, t)\n",
    "                    dists[r_d] = n_r\n",
    "\n",
    "                min_dists = min(dists.keys())\n",
    "                knot.append(dists[min_dists])\n",
    "\n",
    "    # Enable for printing, change arr size according to input\n",
    "    if False:\n",
    "        arr = np.empty([10, 10], dtype=str)\n",
    "        arr[:] = '.'\n",
    "\n",
    "        for i, knot in knots.items():\n",
    "            p = knot[-1]\n",
    "            arr[p[0], p[1]] =\"H\" if (i==0) else str(i)\n",
    "        arr[0, 0] = 's'\n",
    "        \n",
    "        print(f\"== {ins} ==\")\n",
    "        arr = np.rot90(arr)\n",
    "        w, h = np.shape(arr)\n",
    "        for y in range(h):\n",
    "            print(''.join(arr[y, :]))\n",
    "        print(\"\")"
   ]
  },
  {
   "cell_type": "code",
   "execution_count": 7,
   "id": "535f3514",
   "metadata": {},
   "outputs": [
    {
     "name": "stdout",
     "output_type": "stream",
     "text": [
      "5960\n",
      "2327\n"
     ]
    }
   ],
   "source": [
    "print(len(set([(x[0], x[1]) for x in knots[1]])))\n",
    "print(len(set([(x[0], x[1]) for x in knots[9]])))"
   ]
  },
  {
   "cell_type": "code",
   "execution_count": 8,
   "id": "f89931bc",
   "metadata": {},
   "outputs": [],
   "source": [
    "def route_to_geojson(fn, points, props={}):\n",
    "\n",
    "    p2 = []\n",
    "    for p in points:\n",
    "        p2.append([p[0]/100, p[1]/100]) # prevent lat >90\n",
    "    \n",
    "    tuples = [(x[0], x[1]) for x in p2]\n",
    "    ls = LineString(tuples)\n",
    "    features = []\n",
    "    features.append(Feature(geometry=ls, properties=props))\n",
    "    feature_collection = FeatureCollection(features)\n",
    "\n",
    "    with open(f'{fn}.geojson', 'w') as f:\n",
    "        dump(feature_collection, f)\n",
    "\n",
    "for i, knot in knots.items():\n",
    "    route_to_geojson(f'{i}', knot)\n",
    "        \n",
    "#route_to_geojson('head', head)\n",
    "#route_to_geojson('tail', tail, {\n",
    "#    \"stroke\": \"#ff0000\",\n",
    "#    \"stroke-width\": 2,\n",
    "#    \"stroke-opacity\": 1\n",
    "#})"
   ]
  }
 ],
 "metadata": {
  "kernelspec": {
   "display_name": "Python 3 (ipykernel)",
   "language": "python",
   "name": "python3"
  },
  "language_info": {
   "codemirror_mode": {
    "name": "ipython",
    "version": 3
   },
   "file_extension": ".py",
   "mimetype": "text/x-python",
   "name": "python",
   "nbconvert_exporter": "python",
   "pygments_lexer": "ipython3",
   "version": "3.10.8"
  }
 },
 "nbformat": 4,
 "nbformat_minor": 5
}
