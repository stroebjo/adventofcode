{
 "cells": [
  {
   "cell_type": "code",
   "execution_count": null,
   "id": "1731888c",
   "metadata": {},
   "outputs": [],
   "source": [
    "import pandas as pd\n",
    "import matplotlib.pyplot as plt\n",
    "import matplotlib.ticker as mtick\n",
    "\n",
    "import numpy as np"
   ]
  },
  {
   "cell_type": "code",
   "execution_count": null,
   "id": "c93a1a19",
   "metadata": {},
   "outputs": [],
   "source": [
    "with open(\"test.txt\", \"r\", encoding=\"utf-8\") as f:\n",
    "    lines = f.readlines()\n",
    "\n",
    "data = [[ord(char) for char in line.strip()] for line in lines]\n",
    "df = np.array(data)\n",
    "\n",
    "df_old = np.array(data)\n",
    "mark = np.array(data)\n",
    "mark.fill(0)"
   ]
  },
  {
   "cell_type": "code",
   "execution_count": null,
   "id": "81c1a9e0",
   "metadata": {},
   "outputs": [],
   "source": [
    "\n",
    "fig, ax = plt.subplots(figsize=(10, 10), nrows=1, ncols=1)\n",
    "\n",
    "ax.imshow(df, interpolation='none')\n",
    "\n",
    "plt.show()"
   ]
  },
  {
   "cell_type": "code",
   "execution_count": null,
   "id": "69af2e3f",
   "metadata": {
    "scrolled": false
   },
   "outputs": [],
   "source": [
    "import re\n",
    "\n",
    "with open(\"test.txt\", \"r\", encoding=\"utf-8\") as f:\n",
    "    field = f.read().strip().split(\"\\n\")\n",
    "\n",
    "symbols = ['*', '#', '$', '+', '&', '@', '/', '=', '-', '%']\n",
    "    \n",
    "def is_part(f, x1, y1, x2, y2, mark_symbol=None):\n",
    "    max_x = len(f[0])\n",
    "    max_y = len(f)\n",
    "\n",
    "    l = x2 - x1\n",
    "    buffer = {}\n",
    "    found = False\n",
    "\n",
    "    for i in range(l):\n",
    "\n",
    "        for dx in [-1, 0, 1]:\n",
    "            p_start = x1 + i\n",
    "            for dy in [-1, 0, 1]:\n",
    "\n",
    "                x = p_start + dx\n",
    "                y = y1 + dy\n",
    "\n",
    "                if 0 > x or x >= max_x:\n",
    "                    continue\n",
    "                if 0 > y or y >= max_y:\n",
    "                    continue\n",
    "\n",
    "                buffer[(x, y)] = field[y][x]\n",
    "                \n",
    "                if mark_symbol:\n",
    "                    mark[y][x] = mark_symbol\n",
    "                \n",
    "                if field[y][x] in symbols:\n",
    "                    found = True\n",
    "\n",
    "    return found\n",
    "\n",
    "sum_parts = 0\n",
    "for y, line in enumerate(field):\n",
    "\n",
    "    last_part_index = 0\n",
    "    parts = re.finditer(r\"\\d+\", line)\n",
    "\n",
    "    \n",
    "    for m in parts:\n",
    "        #print(p)\n",
    "        \n",
    "        x = m.start()\n",
    "        print(x, m.group())\n",
    "        p = m.group()\n",
    "\n",
    "        \n",
    "        if is_part(field, x, y, x+len(p), y):\n",
    "            sum_parts += int(p)\n",
    "            is_part(field, x, y, x+len(p), y, 2)\n",
    "        else:\n",
    "            print(\"NO PART\")\n",
    "            is_part(field, x, y, x+len(p), y, 1)\n",
    "\n",
    "        last_part_index = x + 1\n",
    "        \n",
    "        fig, [ax1, ax2] = plt.subplots(figsize=(10, 10), nrows=1, ncols=2)\n",
    "\n",
    "        ax1.imshow(df_old, interpolation='none')\n",
    "        ax1.imshow(mark, interpolation='none', alpha=0.5)\n",
    "        ax2.imshow(mark, interpolation='none')\n",
    "\n",
    "        plt.axis('off')\n",
    "        plt.show()\n",
    "        \n",
    "        mark.fill(0)\n",
    "\n",
    "print(sum_parts)"
   ]
  },
  {
   "cell_type": "code",
   "execution_count": null,
   "id": "e1c8f8ca",
   "metadata": {},
   "outputs": [],
   "source": [
    "fig, ax = plt.subplots(figsize=(10, 10), nrows=1, ncols=1)\n",
    "\n",
    "ax.imshow(df_old, interpolation='none')\n",
    "ax.imshow(mark, interpolation='none', alpha=0.5)\n",
    "\n",
    "plt.axis('off')\n",
    "plt.show()"
   ]
  }
 ],
 "metadata": {
  "kernelspec": {
   "display_name": "3.11.0",
   "language": "python",
   "name": "pyenv_3.11.0"
  },
  "language_info": {
   "codemirror_mode": {
    "name": "ipython",
    "version": 3
   },
   "file_extension": ".py",
   "mimetype": "text/x-python",
   "name": "python",
   "nbconvert_exporter": "python",
   "pygments_lexer": "ipython3",
   "version": "3.11.0"
  }
 },
 "nbformat": 4,
 "nbformat_minor": 5
}
