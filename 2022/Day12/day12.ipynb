{
 "cells": [
  {
   "cell_type": "code",
   "execution_count": 63,
   "id": "52363cd4",
   "metadata": {},
   "outputs": [
    {
     "name": "stdout",
     "output_type": "stream",
     "text": [
      "[0, 20] [112, 20]\n"
     ]
    }
   ],
   "source": [
    "import numpy as np\n",
    "import sys \n",
    "import matplotlib.pyplot as plt\n",
    "\n",
    "class P:\n",
    "    def __init__(self, x, y):\n",
    "        self.x = x\n",
    "        self.y = y\n",
    "    \n",
    "    def __str__(self):\n",
    "        return str([self.x, self.y])\n",
    "    \n",
    "    def __repr__(self):\n",
    "        return str([self.x, self.y])\n",
    "\n",
    "with open('input.txt') as f:\n",
    "    ftxt = f.read().strip()\n",
    "    fl = ftxt.split('\\n')\n",
    "    field = []\n",
    "    row = 0\n",
    "    \n",
    "    for l in fl: \n",
    "        ll = list(l)\n",
    "        \n",
    "        if ('S' in ll):\n",
    "            col = ll.index('S')\n",
    "            start = P(col, row)\n",
    "            ll[col] = 'a'\n",
    "        \n",
    "        if ('E' in ll):\n",
    "            col = ll.index('E')\n",
    "            end = P(col, row)\n",
    "            ll[col] = 'z'\n",
    "        \n",
    "        field.append([ord(i) - ord('a') for i in ll])\n",
    "        row += 1\n",
    "\n",
    "print(start, end)"
   ]
  },
  {
   "cell_type": "code",
   "execution_count": 71,
   "id": "aeb3e1c8",
   "metadata": {},
   "outputs": [
    {
     "name": "stdout",
     "output_type": "stream",
     "text": [
      "456.0\n"
     ]
    }
   ],
   "source": [
    "pos = start\n",
    "\n",
    "width = len(field[0])\n",
    "height = len(field)\n",
    "\n",
    "visited  = np.zeros((height, width), dtype=bool)\n",
    "distance = np.zeros((height, width), dtype=float)\n",
    "distance[:] = np.inf\n",
    "distance[pos.y, pos.x] = 0\n",
    "\n",
    "unvisited = set()    \n",
    "for y in range(height):\n",
    "    for x in range(width):\n",
    "        unvisited.add((x, y))\n",
    "        \n",
    "while True:\n",
    "    \n",
    "    # get neighbouring nodes\n",
    "    for dy in [-1, 0, 1]:\n",
    "        for dx in [-1, 0, 1]:\n",
    "            tp = P(pos.x + dx, pos.y + dy)\n",
    "            \n",
    "            # Exlcude same point\n",
    "            if tp.x == pos.x and tp.y == pos.y:\n",
    "                continue\n",
    "\n",
    "            # only horizontal/vertical -> exclude diagonal\n",
    "            if tp.x != pos.x and tp.y != pos.y:\n",
    "                continue\n",
    "            \n",
    "            # don't leave grid\n",
    "            if (tp.x < 0 or tp.x >= width):\n",
    "                continue\n",
    "            if (tp.y < 0 or tp.y >= height):\n",
    "                continue\n",
    "                \n",
    "            if visited[tp.y, tp.x]:\n",
    "                continue\n",
    "            \n",
    "            pos_value = field[pos.y][pos.x]\n",
    "            tp_value = field[tp.y][tp.x]\n",
    "                        \n",
    "            if (0 <= tp_value <= (pos_value+1)):\n",
    "                cost = distance[pos.y, pos.x] + 1\n",
    "                if cost < distance[tp.y, tp.x]:\n",
    "                    distance[tp.y, tp.x] = cost\n",
    "    \n",
    "    visited[pos.y, pos.x] = True\n",
    "    unvisited.remove((pos.x, pos.y))\n",
    "    \n",
    "    if (pos.y == end.y and pos.x == end.x):\n",
    "        print(distance[pos.y, pos.x])\n",
    "        break\n",
    "    \n",
    "    # find unvisited pos with lowest distance\n",
    "    lowest_distance = np.inf\n",
    "    for pt in unvisited:\n",
    "        p = P(pt[0], pt[1])\n",
    "        if (distance[p.y, p.x] <= lowest_distance):\n",
    "            pos = p\n",
    "            lowest_distance = distance[p.y, p.x]\n",
    "    \n",
    "    if (lowest_distance == np.inf):\n",
    "        print(\"no route\")\n",
    "        break"
   ]
  },
  {
   "cell_type": "code",
   "execution_count": 73,
   "id": "f2f46274",
   "metadata": {},
   "outputs": [
    {
     "data": {
      "image/png": "[encoded data removed]",
      "text/plain": [
       "<Figure size 640x480 with 1 Axes>"
      ]
     },
     "metadata": {},
     "output_type": "display_data"
    }
   ],
   "source": [
    "plt.imshow(field)\n",
    "plt.show()"
   ]
  },
  {
   "cell_type": "code",
   "execution_count": 74,
   "id": "ecda6723",
   "metadata": {},
   "outputs": [
    {
     "data": {
      "image/png": "[encoded data removed]",
      "text/plain": [
       "<Figure size 640x480 with 1 Axes>"
      ]
     },
     "metadata": {},
     "output_type": "display_data"
    }
   ],
   "source": [
    "plt.imshow(distance)\n",
    "plt.show()"
   ]
  },
  {
   "cell_type": "code",
   "execution_count": null,
   "id": "c1014dc9",
   "metadata": {},
   "outputs": [],
   "source": [
    "width = len(field[0])\n",
    "height = len(field)\n",
    "\n",
    "# the only b's in the area are only in col 1\n",
    "# so we only need to look at the a's from col 0\n",
    "all_a = []\n",
    "for y in range(height):\n",
    "    all_a.append(P(0, y))\n",
    "    #for x in range(width):\n",
    "    #    if (field[y][x] == 0):\n",
    "    #        all_a.append(P(x, y))\n",
    "a_dists = []\n",
    "\n",
    "i = 0\n",
    "for a in all_a:\n",
    "    i += 1\n",
    "    print(i, len(all_a))\n",
    "    pos = a\n",
    "    visited  = np.zeros((height, width), dtype=bool)\n",
    "    distance = np.zeros((height, width), dtype=float)\n",
    "    distance[:] = np.inf\n",
    "    distance[pos.y, pos.x] = 0\n",
    "\n",
    "    unvisited = set()    \n",
    "    for y in range(height):\n",
    "        for x in range(width):\n",
    "            unvisited.add((x, y))\n",
    "\n",
    "    while True:\n",
    "\n",
    "        # get neighbouring nodes\n",
    "        for dy in [-1, 0, 1]:\n",
    "            for dx in [-1, 0, 1]:\n",
    "                tp = P(pos.x + dx, pos.y + dy)\n",
    "\n",
    "                # Exlcude same point\n",
    "                if tp.x == pos.x and tp.y == pos.y:\n",
    "                    continue\n",
    "\n",
    "                # only horizontal/vertical -> exclude diagonal\n",
    "                if tp.x != pos.x and tp.y != pos.y:\n",
    "                    continue\n",
    "\n",
    "                if (tp.x < 0 or tp.x >= width):\n",
    "                    continue\n",
    "                if (tp.y < 0 or tp.y >= height):\n",
    "                    continue\n",
    "\n",
    "                if visited[tp.y, tp.x]:\n",
    "                    continue\n",
    "\n",
    "                pos_value = field[pos.y][pos.x]\n",
    "                tp_value = field[tp.y][tp.x]\n",
    "\n",
    "                if (0 <= tp_value <= (pos_value+1)):\n",
    "                    cost = distance[pos.y, pos.x] + 1\n",
    "                    if cost < distance[tp.y, tp.x]:\n",
    "                        distance[tp.y, tp.x] = cost\n",
    "\n",
    "        visited[pos.y, pos.x] = True\n",
    "        unvisited.remove((pos.x, pos.y))\n",
    "\n",
    "        if (pos.y == end.y and pos.x == end.x):\n",
    "            a_dists.append(distance[pos.y, pos.x])\n",
    "            break\n",
    "\n",
    "        # find unvisited pos with lowest distance\n",
    "        lowest_distance = np.inf\n",
    "        for pt in unvisited:\n",
    "            p = P(pt[0], pt[1])\n",
    "            if (distance[p.y, p.x] <= lowest_distance):\n",
    "                pos = p\n",
    "                lowest_distance = distance[p.y, p.x]\n",
    "\n",
    "        if (lowest_distance == np.inf):\n",
    "            print(\"no route\")\n",
    "            break\n"
   ]
  },
  {
   "cell_type": "code",
   "execution_count": 76,
   "id": "879b9d13",
   "metadata": {},
   "outputs": [
    {
     "name": "stdout",
     "output_type": "stream",
     "text": [
      "454.0\n"
     ]
    }
   ],
   "source": [
    "print(min(a_dists))"
   ]
  }
 ],
 "metadata": {
  "kernelspec": {
   "display_name": "Python 3 (ipykernel)",
   "language": "python",
   "name": "python3"
  },
  "language_info": {
   "codemirror_mode": {
    "name": "ipython",
    "version": 3
   },
   "file_extension": ".py",
   "mimetype": "text/x-python",
   "name": "python",
   "nbconvert_exporter": "python",
   "pygments_lexer": "ipython3",
   "version": "3.10.8"
  }
 },
 "nbformat": 4,
 "nbformat_minor": 5
}
