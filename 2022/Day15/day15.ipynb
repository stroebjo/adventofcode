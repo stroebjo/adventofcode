{
 "cells": [
  {
   "cell_type": "code",
   "execution_count": 156,
   "id": "0a15b28c",
   "metadata": {},
   "outputs": [],
   "source": [
    "import re\n",
    "import sys\n",
    "from collections import namedtuple\n",
    "Point = namedtuple('Point', 'x y')"
   ]
  },
  {
   "cell_type": "code",
   "execution_count": 163,
   "id": "dfa0d3cd",
   "metadata": {},
   "outputs": [],
   "source": [
    "pairs = {}\n",
    "\n",
    "fn = 'test.txt'\n",
    "with open(fn) as f:\n",
    "    lines = f.read().strip().split('\\n')\n",
    "    \n",
    "    min_x = sys.maxsize\n",
    "    min_y = sys.maxsize\n",
    "    max_x = 0\n",
    "    max_y = 0\n",
    "    \n",
    "    for l in lines:\n",
    "        x1, y1, x2, y2 = list(map(int, re.findall(r'-?\\d+', l)))\n",
    "        min_x = min(min_x, x1, x2)\n",
    "        max_x = max(max_x, x1, x2)\n",
    "        min_y = min(min_y, y1, y2)\n",
    "        max_y = max(max_y, y1, y2)\n",
    "        pairs[Point(x1, y1)] = Point(x2, y2)"
   ]
  },
  {
   "cell_type": "code",
   "execution_count": 164,
   "id": "a067f13d",
   "metadata": {},
   "outputs": [
    {
     "name": "stdout",
     "output_type": "stream",
     "text": [
      "28 x 23 = 644\n"
     ]
    }
   ],
   "source": [
    "width = max_x - min_x + 1\n",
    "height = max_y + 1\n",
    "\n",
    "print(width, 'x', height, '=', width*height)"
   ]
  },
  {
   "cell_type": "code",
   "execution_count": 165,
   "id": "b708b2aa",
   "metadata": {},
   "outputs": [
    {
     "name": "stdout",
     "output_type": "stream",
     "text": [
      "26.0\n"
     ]
    }
   ],
   "source": [
    "def line_intersection(line1, line2):\n",
    "    \"\"\" https://www.arndt-bruenner.de/mathe/9/geradedurchzweipunkte.htm\n",
    "    https://stackoverflow.com/a/20677983/723769\n",
    "    \"\"\"\n",
    "    xdiff = (line1[0].x - line1[1].x, line2[0].x - line2[1].x)\n",
    "    ydiff = (line1[0].y - line1[1].y, line2[0].y - line2[1].y)\n",
    "\n",
    "    def det(a, b):\n",
    "        return a[0] * b[1] - a[1] * b[0]\n",
    "\n",
    "    div = det(xdiff, ydiff)\n",
    "    if div == 0:\n",
    "        raise Exception('lines do not intersect')\n",
    "\n",
    "    d = (det(*line1), det(*line2))\n",
    "    x = det(d, xdiff) / div\n",
    "    y = det(d, ydiff) / div\n",
    "    return Point(x, y)\n",
    "\n",
    "y_test= 10\n",
    "if (fn == 'input.txt'):\n",
    "    y_test = 2000000\n",
    "y_line = [Point(min_x, y_test), Point(max_x, y_test)]\n",
    "covered = []\n",
    "for sensor, beacon in pairs.items():\n",
    "    \n",
    "    # Manhattan distance\n",
    "    d = abs(sensor.x - beacon.x) + abs(sensor.y - beacon.y)\n",
    "    \n",
    "    # trbl points for area covered by sensor (Rhombus)\n",
    "    top    = Point(sensor.x,     sensor.y - d)\n",
    "    right  = Point(sensor.x + d, sensor.y)\n",
    "    bottom = Point(sensor.x,     sensor.y + d)\n",
    "    left   = Point(sensor.x - d, sensor.y)\n",
    "    \n",
    "    if (top.y <= y_test <= sensor.y):\n",
    "        # intersection is in upper half\n",
    "        i1 = line_intersection([left, top], y_line)\n",
    "        i2 = line_intersection([right, top], y_line)\n",
    "        covered.append(sorted([i1.x, i2.x]))\n",
    "    elif (bottom.y >= y_test > sensor.y):\n",
    "        # intersection is in lower half\n",
    "        i1 = line_intersection([left, bottom], y_line)\n",
    "        i2 = line_intersection([right, bottom], y_line)\n",
    "        covered.append(sorted([i1.x, i2.x]))\n",
    "    else:\n",
    "        # not intersection with current sensor/beacon\n",
    "        pass\n",
    "\n",
    "covered = sorted(covered)\n",
    "\n",
    "# why can we assume only to use the min and max?\n",
    "# why ist guaranteed the the covered line is continous?!\n",
    "xs_min = []\n",
    "xs_max = []\n",
    "for i in covered:\n",
    "    xs_min.append(i[0])\n",
    "    xs_max.append(i[1])\n",
    "    \n",
    "minx = min(xs_min)\n",
    "maxx = max(xs_max)\n",
    "\n",
    "print(abs(minx) + maxx)"
   ]
  },
  {
   "cell_type": "markdown",
   "id": "19a9c9bb",
   "metadata": {},
   "source": [
    "# Part 2"
   ]
  },
  {
   "cell_type": "code",
   "execution_count": 172,
   "id": "4a4d5f00",
   "metadata": {},
   "outputs": [
    {
     "name": "stdout",
     "output_type": "stream",
     "text": [
      "56000011\n"
     ]
    }
   ],
   "source": [
    "maxxy = 20\n",
    "if (fn == 'input.txt'):\n",
    "    maxxy = 2000000\n",
    "\n",
    "for y in range(maxxy, -1, -1):\n",
    "    \n",
    "    y_test= y\n",
    "    y_line = [Point(min_x, y_test), Point(max_x, y_test)]\n",
    "    covered = []\n",
    "    for sensor, beacon in pairs.items():\n",
    "        d = abs(sensor.x - beacon.x) + abs(sensor.y - beacon.y)\n",
    "\n",
    "        top    = Point(sensor.x,     sensor.y - d)\n",
    "        right  = Point(sensor.x + d, sensor.y)\n",
    "        bottom = Point(sensor.x,     sensor.y + d)\n",
    "        left   = Point(sensor.x - d, sensor.y)\n",
    "        \n",
    "        if (top.y <= y_test <= sensor.y):\n",
    "            # intersection is upper half\n",
    "            i1 = line_intersection([left, top], y_line)\n",
    "            i2 = line_intersection([right, top], y_line)\n",
    "            covered.append(sorted([i1.x, i2.x]))\n",
    "        elif (bottom.y >= y_test > sensor.y):\n",
    "            # intersection in lower half\n",
    "            i1 = line_intersection([left, bottom], y_line)\n",
    "            i2 = line_intersection([right, bottom], y_line)\n",
    "            covered.append(sorted([i1.x, i2.x]))\n",
    "        else:\n",
    "            # not intersection with current sensor/beacon\n",
    "            pass\n",
    "\n",
    "    covered = sorted(covered)\n",
    "    \n",
    "    # test for noncovered point\n",
    "    if True:\n",
    "        for x in range(maxxy+1):\n",
    "            uncovered = True\n",
    "            for c in covered:\n",
    "                if c[0] <= x <= c[1]:\n",
    "                    uncovered = False\n",
    "            if (uncovered):\n",
    "                print(4000000*x+y)\n",
    "\n",
    "    #if y % 100 == 0:\n",
    "    #    print(y, time.time())"
   ]
  },
  {
   "cell_type": "code",
   "execution_count": null,
   "id": "1b18dc4f",
   "metadata": {},
   "outputs": [],
   "source": []
  }
 ],
 "metadata": {
  "kernelspec": {
   "display_name": "Python 3 (ipykernel)",
   "language": "python",
   "name": "python3"
  },
  "language_info": {
   "codemirror_mode": {
    "name": "ipython",
    "version": 3
   },
   "file_extension": ".py",
   "mimetype": "text/x-python",
   "name": "python",
   "nbconvert_exporter": "python",
   "pygments_lexer": "ipython3",
   "version": "3.10.8"
  }
 },
 "nbformat": 4,
 "nbformat_minor": 5
}
